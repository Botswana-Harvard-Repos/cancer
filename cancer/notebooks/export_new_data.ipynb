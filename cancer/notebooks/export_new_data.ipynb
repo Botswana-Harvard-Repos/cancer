{
 "cells": [
  {
   "cell_type": "code",
   "execution_count": null,
   "metadata": {},
   "outputs": [],
   "source": [
    "# Imports\n",
    "import os\n",
    "import pandas as pd\n",
    "from django.core.exceptions import ValidationError\n",
    "import pytz, datetime\n",
    "TIME_ZONE = 'Africa/Gaborone'\n",
    "tz = pytz.timezone(TIME_ZONE)\n",
    "d = datetime.datetime(2019, 5, 13).replace(tzinfo=tz)\n",
    "#Data path\n",
    "data_path = '/home/django/export_migration_data/'"
   ]
  },
  {
   "cell_type": "code",
   "execution_count": null,
   "metadata": {},
   "outputs": [],
   "source": [
    "# Export Consents\n",
    "subject_consents = SubjectConsent.objects.filter(created__gt=d)\n",
    "sc_data = []\n",
    "for sc in subject_consents:\n",
    "    data = sc.__dict__\n",
    "    if data['slug']:\n",
    "        slug = data['slug']\n",
    "        slug = slug.split('|')\n",
    "        slug = slug[0] + ' ' + slug[1] + ' ' + slug[2]\n",
    "        data.update(slug=slug)\n",
    "    sc_data.append(data)\n",
    "df_subject_consents = pd.DataFrame(sc_data)\n",
    "sc_file_name = 'subject_consent.csv'\n",
    "sc_file_path = data_path + sc_file_name\n",
    "df_subject_consents.to_csv(sc_file_path, sep='|', encoding='utf-8')"
   ]
  },
  {
   "cell_type": "code",
   "execution_count": null,
   "metadata": {},
   "outputs": [],
   "source": [
    "# Export Registered Subject\n",
    "rs = RegisteredSubject.objects.filter(created__gt=d)\n",
    "rs_data = []\n",
    "for r in rs:\n",
    "    data = r.__dict__\n",
    "    rs_data.append(data)\n",
    "df_rs = pd.DataFrame(rs_data)\n",
    "rs_file_name = 'registered_subject.csv'\n",
    "rs_file_path = data_path + rs_file_name\n",
    "df_rs.to_csv(rs_file_path, sep='|', encoding='utf-8')"
   ]
  },
  {
   "cell_type": "code",
   "execution_count": null,
   "metadata": {},
   "outputs": [],
   "source": [
    "subject_screening = SubjectScreening.objects.filter(created__gt=d)\n",
    "subject_screening_file_name = 'subject_screening.csv'\n",
    "subject_screening_file_path = data_path + subject_screening_file_name\n",
    "sc_data = []\n",
    "for ss in subject_screening:\n",
    "    data = ss.__dict__\n",
    "    sc_data.append(data)\n",
    "df_subject_screening = pd.DataFrame(sc_data)\n",
    "df_subject_screening.to_csv(subject_screening_file_path, sep='|', encoding='utf-8')"
   ]
  },
  {
   "cell_type": "code",
   "execution_count": null,
   "metadata": {},
   "outputs": [],
   "source": [
    "#Subject Visit\n",
    "subject_visit = SubjectVisit.objects.filter(created__gt=d)\n",
    "sv_file_name = 'subject_visit.csv'\n",
    "sv_file_path = data_path + sv_file_name\n",
    "sv_data = []\n",
    "for sv in subject_visit:\n",
    "    data = sv.__dict__\n",
    "    sv_data.append(data)\n",
    "df_sv = pd.DataFrame(sv_data)\n",
    "df_sv.to_csv(sv_file_path, sep='|', encoding='utf-8')"
   ]
  },
  {
   "cell_type": "code",
   "execution_count": null,
   "metadata": {},
   "outputs": [],
   "source": [
    "# Export Appointments\n",
    "from django.core.exceptions import ObjectDoesNotExist\n",
    "subject_screening = SubjectScreening.objects.filter(created__gt=d)\n",
    "subject_identifiers = []\n",
    "for ss in subject_screening:\n",
    "    subject_identifiers.append(ss.subject_identifier)\n",
    "from cancer_subject.models import Appointment\n",
    "appointments = Appointment.objects.filter(subject_identifier__in=subject_identifiers)\n",
    "ap_file_name = 'appointment.csv'\n",
    "ap_file_path = data_path + ap_file_name\n",
    "ap_data = []\n",
    "for ap in appointments:\n",
    "    data = ap.__dict__\n",
    "    ap_data.append(data)\n",
    "df_ap = pd.DataFrame(ap_data)\n",
    "df_ap.to_csv(ap_file_path, sep='|', encoding='utf-8')"
   ]
  },
  {
   "cell_type": "code",
   "execution_count": null,
   "metadata": {},
   "outputs": [],
   "source": [
    "# Export CRFS\n",
    "from django.apps import apps as django_apps\n",
    "crf_list = [\n",
    "    'symptomsandtesting', 'labresultheightweight', 'activityandfunctioning', 'baseriskassessmentdemo', 'baseriskassessment',\n",
    "    'baseriskassessmentfemale', 'baseriskassessmentcancer', 'baseriskassessmentsun', 'baseriskassessmentfuel',\n",
    "    'baseriskassessmentchemical', 'baseriskassessmentmining', 'baseriskassessmenteating', 'baseriskassessmentsmoking',\n",
    "    'baseriskassessmentalcohol', 'cancerdiagnosis', 'oncologytreatmentplan', 'labresulthaematology', 'labresultchemistry',\n",
    "    'labresulttb', 'baselinehivhistory', 'bhhhivtest', 'bhhwhoillness', 'haartrecord', 'oncologytreatmentrecord',\n",
    "    'otrsurgical', 'otrchemo', 'radiationtreatment', 'currentsymptoms', 'oncologytreatmentcompleted']\n",
    "data_path = '/home/django/export_migration_data/crfs/'\n",
    "for model_name in crf_list:\n",
    "    cls = django_apps.get_model('cancer_subject', model_name)\n",
    "    objs = cls.objects.filter(created__gt=d)\n",
    "    crf_data = []\n",
    "    crf_file_path = data_path + model_name + '.csv'\n",
    "    for obj in objs:\n",
    "        data = obj.__dict__\n",
    "        crf_data.append(data)\n",
    "    df_crf = pd.DataFrame(crf_data)\n",
    "    df_crf.to_csv(crf_file_path, sep='|', encoding='utf-8')"
   ]
  },
  {
   "cell_type": "code",
   "execution_count": null,
   "metadata": {},
   "outputs": [],
   "source": [
    "# Export subject death\n",
    "from cancer_prn.models import DeathReport\n",
    "death_report = DeathReport.objects.filter(created__gt=d)\n",
    "dr_file_name = 'death_report.csv'\n",
    "dr_file_path = data_path + dr_file_name\n",
    "dr_data = []\n",
    "for dr in death_report:\n",
    "    data = dr.__dict__\n",
    "    dr_data.append(data)\n",
    "df_dr = pd.DataFrame(dr_data)\n",
    "df_dr.to_csv(dr_file_path, sep='|', encoding='utf-8')"
   ]
  },
  {
   "cell_type": "code",
   "execution_count": null,
   "metadata": {},
   "outputs": [],
   "source": [
    "# Export subject locator\n",
    "from cancer_subject.models import SubjectLocator\n",
    "subject_locator = SubjectLocator.objects.filter(created__gt=d)\n",
    "sl_file_name = 'subject_locator.csv'\n",
    "sl_file_path = data_path + sl_file_name\n",
    "sl_data = []\n",
    "for sl in subject_locator:\n",
    "    data = sl.__dict__\n",
    "    sl_data.append(data)\n",
    "df_sl = pd.DataFrame(sl_data)\n",
    "df_sl.to_csv(sl_file_path, sep='|', encoding='utf-8')"
   ]
  },
  {
   "cell_type": "code",
   "execution_count": null,
   "metadata": {},
   "outputs": [],
   "source": [
    "from cancer_subject.models import SubjectLocator\n",
    "subject_locators = SubjectLocator.objects.filter(created__gt=d)\n",
    "action_item_ids = []\n",
    "for l in subject_locators:\n",
    "    action_item_ids.append(l.action_identifier)\n",
    "action_items = ActionItem.objects.filter(action_identifier__in=action_item_ids)\n",
    "ai_file_name = 'locator_action_items.csv'\n",
    "ai_file_path = data_path + ai_file_name\n",
    "ai_data = []\n",
    "for ai in action_items:\n",
    "    data = ai.__dict__\n",
    "    ai_data.append(data)\n",
    "df_ai = pd.DataFrame(ai_data)\n",
    "df_ai.to_csv(ai_file_path, sep='|', encoding='utf-8')"
   ]
  },
  {
   "cell_type": "code",
   "execution_count": null,
   "metadata": {},
   "outputs": [],
   "source": [
    "# Export subject offstudy\n",
    "from cancer_prn.models import SubjectOffstudy\n",
    "subject_offstudy = SubjectOffstudy.objects.filter(created__gt=d)\n",
    "so_file_name = 'subject_offstudy.csv'\n",
    "so_file_path = data_path + so_file_name\n",
    "so_data = []\n",
    "for so in subject_offstudy:\n",
    "    data = so.__dict__\n",
    "    so_data.append(data)\n",
    "df_so = pd.DataFrame(so_data)\n",
    "df_so.to_csv(so_file_path, sep='|', encoding='utf-8')"
   ]
  },
  {
   "cell_type": "code",
   "execution_count": null,
   "metadata": {},
   "outputs": [],
   "source": []
  }
 ],
 "metadata": {
  "kernelspec": {
   "display_name": "Django Shell-Plus",
   "language": "python",
   "name": "django_extensions"
  },
  "language_info": {
   "codemirror_mode": {
    "name": "ipython",
    "version": 3
   },
   "file_extension": ".py",
   "mimetype": "text/x-python",
   "name": "python",
   "nbconvert_exporter": "python",
   "pygments_lexer": "ipython3",
   "version": "3.7.2"
  }
 },
 "nbformat": 4,
 "nbformat_minor": 2
}
