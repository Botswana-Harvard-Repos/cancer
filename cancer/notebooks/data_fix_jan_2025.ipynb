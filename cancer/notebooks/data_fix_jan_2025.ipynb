{
 "cells": [
  {
   "cell_type": "code",
   "execution_count": null,
   "metadata": {},
   "outputs": [],
   "source": [
    "import os, sys\n",
    "import django\n",
    "\n",
    "sys.path.append('../..') # add path to project root dir\n",
    "os.environ[\"DJANGO_SETTINGS_MODULE\"] = \"cancer.settings\"\n",
    "os.environ[\"DJANGO_ALLOW_ASYNC_UNSAFE\"] = \"true\"\n",
    "\n",
    "from django.core.wsgi import get_wsgi_application\n",
    "application = get_wsgi_application()\n"
   ]
  },
  {
   "cell_type": "code",
   "execution_count": null,
   "metadata": {},
   "outputs": [],
   "source": [
    "from cancer_subject.models import SubjectConsent\n",
    "\n",
    "subject_identifier = '045-040997691-4'\n",
    "first_name = 'KENALEMANG'\n",
    "\n",
    "# get consent\n",
    "subject_consents = SubjectConsent.objects.filter(subject_identifier = subject_identifier )\n",
    "\n",
    "# change name and initials \n",
    "for subject_consent in subject_consents:\n",
    "    subject_consent.first_name =first_name\n",
    "    subject_consent.save()"
   ]
  },
  {
   "cell_type": "code",
   "execution_count": null,
   "metadata": {},
   "outputs": [],
   "source": [
    "subject_identifier = '045-040997699-7'\n",
    "first_name = 'SEREFETE'\n",
    "last_name ='WANTLO'\n",
    "initials ='SW'\n",
    "\n",
    "# get consent\n",
    "subject_consents = SubjectConsent.objects.filter(subject_identifier = subject_identifier )\n",
    "\n",
    "# change name and initials \n",
    "for subject_consent in subject_consents:\n",
    "    subject_consent.first_name = first_name\n",
    "    subject_consent.last_name = last_name\n",
    "    subject_consent.initials = initials\n",
    "    subject_consent.save()"
   ]
  },
  {
   "cell_type": "code",
   "execution_count": null,
   "metadata": {},
   "outputs": [],
   "source": [
    "from cancer_subject.models import SubjectConsent\n",
    "\n",
    "subject_identifier = '0045-040997674-0'\n",
    "\n",
    "correct_identity = '365123302'\n",
    "\n",
    "# get consent\n",
    "subject_consents = SubjectConsent.objects.filter(subject_identifier = subject_identifier )\n",
    "\n",
    "# change identity to correct identity number\n",
    "for subject_consent in subject_consents:\n",
    "    subject_consent.identity = correct_identity\n",
    "    subject_consent.confirm_identity = correct_identity\n",
    "    subject_consent.save()\n"
   ]
  },
  {
   "cell_type": "code",
   "execution_count": null,
   "metadata": {},
   "outputs": [],
   "source": [
    "subject_identifier = '045-040997663-3'\n",
    "\n",
    "first_name = 'SASAWANE'\n",
    "\n",
    "# get consent\n",
    "subject_consents = SubjectConsent.objects.filter(subject_identifier = subject_identifier )\n",
    "\n",
    "# change first name \n",
    "for subject_consent in subject_consents:\n",
    "    subject_consent.first_name = first_name\n",
    "    subject_consent.save()"
   ]
  },
  {
   "cell_type": "code",
   "execution_count": null,
   "metadata": {},
   "outputs": [],
   "source": [
    "subject_identifier = '045-040997623-7'\n",
    "first_name = 'PHOTSHANA'\n",
    "last_name ='NGUMAE'\n",
    "initials ='PN'\n",
    "\n",
    "# get consent\n",
    "subject_consents = SubjectConsent.objects.filter(subject_identifier = subject_identifier )\n",
    "\n",
    "# change name and initials \n",
    "for subject_consent in subject_consents:\n",
    "    subject_consent.first_name = first_name\n",
    "    subject_consent.last_name = last_name\n",
    "    subject_consent.initials = initials\n",
    "    subject_consent.save()\n",
    "\n"
   ]
  },
  {
   "cell_type": "code",
   "execution_count": null,
   "metadata": {},
   "outputs": [],
   "source": [
    "from datetime import date\n",
    "\n",
    "subject_identifier = '045-040997483-6'\n",
    "\n",
    "consent_date = date(2024,6,17)\n",
    "\n",
    "# get consent\n",
    "subject_consents = SubjectConsent.objects.filter(subject_identifier = subject_identifier )\n",
    "for subject_consent in subject_consents:\n",
    "    subject_consent.consent_datetime = consent_date\n",
    "    subject_consent.save()\n"
   ]
  },
  {
   "cell_type": "code",
   "execution_count": null,
   "metadata": {},
   "outputs": [],
   "source": [
    "subject_identifier = '045-040997694-8'\n",
    "first_name = 'MOLELEKWA'\n",
    "last_name ='KHALEKHO'\n",
    "initials ='MK'\n",
    "\n",
    "# get consent\n",
    "subject_consents = SubjectConsent.objects.filter(subject_identifier = subject_identifier )\n",
    "\n",
    "# change name and initials \n",
    "for subject_consent in subject_consents:\n",
    "    subject_consent.first_name = first_name\n",
    "    subject_consent.last_name = last_name\n",
    "    subject_consent.initials = initials\n",
    "    subject_consent.save()"
   ]
  },
  {
   "cell_type": "code",
   "execution_count": null,
   "metadata": {},
   "outputs": [],
   "source": [
    "subject_identifier = '045-040997590-8'\n",
    "first_name = 'SENNANA'\n",
    "initials ='SN'\n",
    "\n",
    "# get consent\n",
    "subject_consents = SubjectConsent.objects.filter(subject_identifier = subject_identifier )\n",
    "\n",
    "# change name and initials \n",
    "for subject_consent in subject_consents:\n",
    "    subject_consent.first_name = first_name\n",
    "    subject_consent.initials = initials\n",
    "    subject_consent.save()"
   ]
  },
  {
   "cell_type": "code",
   "execution_count": null,
   "metadata": {},
   "outputs": [],
   "source": [
    "subject_identifier = '045-040997629-4'\n",
    "last_name ='BABUSI'\n",
    "\n",
    "# get consent\n",
    "subject_consents = SubjectConsent.objects.filter(subject_identifier = subject_identifier )\n",
    "\n",
    "# change surname   \n",
    "for subject_consent in subject_consents:\n",
    "    subject_consent.last_name =last_name\n",
    "    subject_consent.save()"
   ]
  },
  {
   "cell_type": "code",
   "execution_count": null,
   "metadata": {},
   "outputs": [],
   "source": [
    "subject_identifier = '045-040997658-3'\n",
    "first_name = 'ESTHER'\n",
    "\n",
    "# get consent\n",
    "subject_consents = SubjectConsent.objects.filter(subject_identifier = subject_identifier )\n",
    "\n",
    "# change name and initials \n",
    "for subject_consent in subject_consents:\n",
    "    subject_consent.first_name = first_name\n",
    "    subject_consent.save()"
   ]
  },
  {
   "cell_type": "code",
   "execution_count": null,
   "metadata": {},
   "outputs": [],
   "source": [
    "subject_identifier = '045-040997707-8'\n",
    "last_name ='MAOLOGA'\n",
    "\n",
    "# get consent\n",
    "subject_consents = SubjectConsent.objects.filter(subject_identifier = subject_identifier )\n",
    "\n",
    "# change surname   \n",
    "for subject_consent in subject_consents:\n",
    "    subject_consent.last_name =last_name\n",
    "    subject_consent.save()"
   ]
  },
  {
   "cell_type": "code",
   "execution_count": null,
   "metadata": {},
   "outputs": [],
   "source": [
    "subject_identifier = '045-040997715-1'\n",
    "first_name = 'ESTHER'\n",
    "\n",
    "# get consent\n",
    "subject_consents = SubjectConsent.objects.filter(subject_identifier = subject_identifier )\n",
    "\n",
    "# change name and initials \n",
    "for subject_consent in subject_consents:\n",
    "    subject_consent.first_name = first_name\n",
    "    subject_consent.save()"
   ]
  },
  {
   "cell_type": "code",
   "execution_count": null,
   "metadata": {},
   "outputs": [],
   "source": [
    "subject_identifier = '045-040997686-4'\n",
    "first_name = 'KETLHAETSE'\n",
    "initials ='KL'\n",
    "\n",
    "# get consent\n",
    "subject_consents = SubjectConsent.objects.filter(subject_identifier = subject_identifier )\n",
    "\n",
    "# change name and initials \n",
    "for subject_consent in subject_consents:\n",
    "    subject_consent.first_name = first_name\n",
    "    subject_consent.initials = initials\n",
    "    subject_consent.save()"
   ]
  },
  {
   "cell_type": "code",
   "execution_count": null,
   "metadata": {},
   "outputs": [],
   "source": [
    "from cancer_subject.models import SubjectVisit\n",
    "\n",
    "subject_identifier ='045-040997209-5'\n",
    "\n",
    "try:\n",
    "    subject_visit = SubjectVisit.objects.get(subject_identifier=subject_identifier,visit_code='1900',visit_code_sequence=0)\n",
    "\n",
    "except SubjecVisit.DoesNotExist:\n",
    "    pass\n",
    "else:\n",
    "    subject_visit.reason = 'Death'\n",
    "    subject_visit.info_source = 'Contact w/ family/design'\n",
    "\n",
    "    subject_visit.save()"
   ]
  },
  {
   "cell_type": "code",
   "execution_count": null,
   "metadata": {},
   "outputs": [],
   "source": [
    "\n",
    "subject_identifier = '045-040997728-4'\n",
    "\n",
    "consent_date = date(2024,11,29)\n",
    "\n",
    "# get consent\n",
    "subject_consents = SubjectConsent.objects.filter(subject_identifier = subject_identifier )\n",
    "for subject_consent in subject_consents:\n",
    "    subject_consent.consent_datetime = consent_date\n",
    "    subject_consent.save()\n"
   ]
  },
  {
   "cell_type": "code",
   "execution_count": null,
   "metadata": {},
   "outputs": [],
   "source": [
    "\n",
    "\n",
    "subject_identifier = '045-040997709-4'\n",
    "\n",
    "consent_date = date(2024,11,14)\n",
    "\n",
    "# get consent\n",
    "subject_consents = SubjectConsent.objects.filter(subject_identifier = subject_identifier )\n",
    "for subject_consent in subject_consents:\n",
    "    subject_consent.consent_datetime = consent_date\n",
    "    subject_consent.save()\n"
   ]
  },
  {
   "cell_type": "code",
   "execution_count": null,
   "metadata": {},
   "outputs": [],
   "source": [
    "subject_identifier = '045-040997598-1'\n",
    "first_name = 'NALEDI'\n",
    "initials ='NL'\n",
    "\n",
    "# get consent\n",
    "subject_consents = SubjectConsent.objects.filter(subject_identifier = subject_identifier )\n",
    "\n",
    "# change name and initials \n",
    "for subject_consent in subject_consents:\n",
    "    subject_consent.first_name = first_name\n",
    "    subject_consent.initials = initials\n",
    "    subject_consent.save()"
   ]
  },
  {
   "cell_type": "code",
   "execution_count": null,
   "metadata": {},
   "outputs": [],
   "source": [
    "subject_identifier = '045-040997596-5'\n",
    "first_name = 'SOLOMONE'\n",
    "\n",
    "# get consent\n",
    "subject_consents = SubjectConsent.objects.filter(subject_identifier = subject_identifier )\n",
    "\n",
    "# change name and initials \n",
    "for subject_consent in subject_consents:\n",
    "    subject_consent.first_name = first_name\n",
    "    subject_consent.save()"
   ]
  }
 ],
 "metadata": {
  "kernelspec": {
   "display_name": "cancer-eg",
   "language": "python",
   "name": "python3"
  },
  "language_info": {
   "codemirror_mode": {
    "name": "ipython",
    "version": 3
   },
   "file_extension": ".py",
   "mimetype": "text/x-python",
   "name": "python",
   "nbconvert_exporter": "python",
   "pygments_lexer": "ipython3",
   "version": "3.10.9"
  },
  "orig_nbformat": 4
 },
 "nbformat": 4,
 "nbformat_minor": 2
}
