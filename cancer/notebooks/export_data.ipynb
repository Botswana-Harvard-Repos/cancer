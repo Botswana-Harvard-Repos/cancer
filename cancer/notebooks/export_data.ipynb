{
 "cells": [
  {
   "cell_type": "code",
   "execution_count": 2,
   "metadata": {},
   "outputs": [],
   "source": [
    "# Imports\n",
    "import os \n",
    "import pandas as pd\n",
    "from django.core.exceptions import ValidationError\n",
    "\n",
    "#Data path\n",
    "data_path = '/home/django/export_migration_data/'"
   ]
  },
  {
   "cell_type": "code",
   "execution_count": null,
   "metadata": {},
   "outputs": [],
   "source": [
    "# Export Consents\n",
    "subject_consents = SubjectConsent.objects.all()\n",
    "sc_data = []\n",
    "for sc in subject_consents:\n",
    "    data = sc.__dict__\n",
    "    sc_data.append(data)\n",
    "df_subject_consents = pd.DataFrame(sc_data)\n",
    "sc_file_name = 'subject_consent.csv'\n",
    "sc_file_path = data_path + sc_file_name\n",
    "df_subject_consents.to_csv(sc_file_path, encoding='utf-8')"
   ]
  },
  {
   "cell_type": "code",
   "execution_count": null,
   "metadata": {},
   "outputs": [],
   "source": [
    "# Export Registered Subject\n",
    "rs = RegisteredSubject.objects.all()\n",
    "rs_data = []\n",
    "for r in rs:\n",
    "    data = r.__dict__\n",
    "    rs_data.append(data)\n",
    "\n",
    "df_rs = pd.DataFrame(rs_data)\n",
    "rs_file_name = 'registered_subject.csv'\n",
    "rs_file_path = data_path + rs_file_name\n",
    "df_rs.to_csv(rs_file_path, encoding='utf-8')"
   ]
  },
  {
   "cell_type": "code",
   "execution_count": null,
   "metadata": {},
   "outputs": [],
   "source": [
    "# Export Enrollment Checklist\n",
    "subject_screening = EnrollmentChecklist.objects.all()\n",
    "\n",
    "subject_screening_file_name = 'subject_screening.csv'\n",
    "subject_screening_file_path = data_path + subject_screening_file_name\n",
    "sc_data = []\n",
    "for ss in subject_screening:\n",
    "    data = ss.__dict__\n",
    "    data['subject_identifier'] = ss.registered_subject.subject_identifier\n",
    "    sc_data.append(data)\n",
    "df_subject_screening = pd.DataFrame(sc_data)\n",
    "df_subject_screening.to_csv(subject_screening_file_path, encoding='utf-8')"
   ]
  },
  {
   "cell_type": "code",
   "execution_count": null,
   "metadata": {},
   "outputs": [],
   "source": [
    "#Subject Visit\n",
    "\n",
    "subject_visit = SubjectVisit.objects.all()\n",
    "sv_file_name = 'subject_visit.csv'\n",
    "sv_file_path = data_path + sv_file_name\n",
    "sv_data = []\n",
    "for sv in subject_visit:\n",
    "    data = sv.__dict__\n",
    "    data.update(visit_code=sv.appointment.visit_definition.code)\n",
    "    sv_data.append(data)\n",
    "df_sv = pd.DataFrame(sv_data)\n",
    "df_sv.to_csv(sv_file_path, encoding='utf-8')"
   ]
  },
  {
   "cell_type": "code",
   "execution_count": null,
   "metadata": {},
   "outputs": [],
   "source": [
    "# Export Appointments\n",
    "from django.core.exceptions import ObjectDoesNotExist\n",
    "appointments = Appointment.objects.all()\n",
    "ap_file_name = 'appointment.csv'\n",
    "ap_file_path = data_path + ap_file_name\n",
    "ap_data = []\n",
    "for ap in appointments:\n",
    "    data = ap.__dict__\n",
    "    data.update(\n",
    "        subject_identifier=ap.registered_subject.subject_identifier,\n",
    "        visit_code=ap.visit_definition.code)\n",
    "    try:\n",
    "        ap.timepointstatus\n",
    "    except ObjectDoesNotExist:\n",
    "        pass\n",
    "    else:\n",
    "        data.update(\n",
    "            timepoint_status=ap.timepointstatus.status,\n",
    "            timepoint_closed_datetime=ap.timepointstatus.close_datetime)\n",
    "    ap_data.append(data)\n",
    "df_ap = pd.DataFrame(ap_data)\n",
    "df_ap.to_csv(ap_file_path, encoding='utf-8')"
   ]
  },
  {
   "cell_type": "code",
   "execution_count": 1,
   "metadata": {},
   "outputs": [
    {
     "data": {
      "text/plain": [
       "['symptomsandtesting',\n",
       " 'labresultheightweight',\n",
       " 'activityandfunctioning',\n",
       " 'baseriskassessmentdemo',\n",
       " 'baseriskassessment',\n",
       " 'baseriskassessmentfemale',\n",
       " 'baseriskassessmentcancer',\n",
       " 'baseriskassessmentsun',\n",
       " 'baseriskassessmentfuel',\n",
       " 'baseriskassessmentchemical',\n",
       " 'baseriskassessmentmining',\n",
       " 'baseriskassessmenteating',\n",
       " 'baseriskassessmentsmoking',\n",
       " 'baseriskassessmentalcohol',\n",
       " 'cancerdiagnosis',\n",
       " 'oncologytreatmentplan',\n",
       " 'labresulthaematology',\n",
       " 'labresultchemistry',\n",
       " 'labresulttb',\n",
       " 'baselinehivhistory',\n",
       " 'bhhhivtest',\n",
       " 'bhhwhoillness',\n",
       " 'haartrecord',\n",
       " 'oncologytreatmentrecord',\n",
       " 'otrsurgical',\n",
       " 'otrchemo',\n",
       " 'radiationtreatment',\n",
       " 'currentsymptoms',\n",
       " 'oncologytreatmentcompleted']"
      ]
     },
     "execution_count": 1,
     "metadata": {},
     "output_type": "execute_result"
    }
   ],
   "source": [
    "# Export CRFS\n",
    "from django.db.models import get_model\n",
    "crf_list = [\n",
    "    'symptomsandtesting', 'labresultheightweight', 'activityandfunctioning', 'baseriskassessmentdemo', 'baseriskassessment',\n",
    "    'baseriskassessmentfemale', 'baseriskassessmentcancer', 'baseriskassessmentsun', 'baseriskassessmentfuel',\n",
    "    'baseriskassessmentchemical', 'baseriskassessmentmining', 'baseriskassessmenteating', 'baseriskassessmentsmoking',\n",
    "    'baseriskassessmentalcohol', 'cancerdiagnosis', 'oncologytreatmentplan', 'labresulthaematology', 'labresultchemistry',\n",
    "    'labresulttb', 'baselinehivhistory', 'bhhhivtest', 'bhhwhoillness', 'haartrecord', 'oncologytreatmentrecord',\n",
    "    'otrsurgical', 'otrchemo', 'radiationtreatment', 'currentsymptoms', 'oncologytreatmentcompleted']\n",
    "data_path = '/home/django/export_migration_data/crfs/'\n",
    "for model_name in crf_list:\n",
    "    cls = get_model('cancer_subject', model_name)\n",
    "    objs = cls.objects.all()\n",
    "    crf_data = []\n",
    "    crf_file_path = data_path + model_name + '.csv'\n",
    "    for obj in objs:\n",
    "        data = obj.__dict__\n",
    "        crf_data.append(data)\n",
    "    df_crf = pd.DataFrame(crf_data)\n",
    "    df_crf.to_csv(crf_file_path, encoding='utf-8')"
   ]
  }
 ],
 "metadata": {
  "kernelspec": {
   "display_name": "Python 3",
   "language": "python",
   "name": "python3"
  },
  "language_info": {
   "codemirror_mode": {
    "name": "ipython",
    "version": 3
   },
   "file_extension": ".py",
   "mimetype": "text/x-python",
   "name": "python",
   "nbconvert_exporter": "python",
   "pygments_lexer": "ipython3",
   "version": "3.7.2"
  }
 },
 "nbformat": 4,
 "nbformat_minor": 2
}
