{
 "cells": [
  {
   "cell_type": "code",
   "execution_count": 2,
   "metadata": {},
   "outputs": [],
   "source": [
    "# Imports\n",
    "import os \n",
    "import pandas as pd\n",
    "from django.core.exceptions import ValidationError\n",
    "\n",
    "#Data path\n",
    "data_path = '/home/django/export_migration_data/'"
   ]
  },
  {
   "cell_type": "code",
   "execution_count": null,
   "metadata": {},
   "outputs": [],
   "source": [
    "# Export Consents\n",
    "subject_consents = SubjectConsent.objects.all()\n",
    "sc_data = []\n",
    "for sc in subject_consents:\n",
    "    data = sc.__dict__\n",
    "    sc_data.append(data)\n",
    "df_subject_consents = pd.DataFrame(sc_data)\n",
    "sc_file_name = 'subject_consent.csv'\n",
    "sc_file_path = data_path + sc_file_name\n",
    "df_subject_consents.to_csv(sc_file_path, encoding='utf-8')"
   ]
  },
  {
   "cell_type": "code",
   "execution_count": null,
   "metadata": {},
   "outputs": [],
   "source": [
    "# Export Registered Subject\n",
    "rs = RegisteredSubject.objects.all()\n",
    "rs_data = []\n",
    "for r in rs:\n",
    "    data = r.__dict__\n",
    "    rs_data.append(data)\n",
    "\n",
    "df_rs = pd.DataFrame(rs_data)\n",
    "rs_file_name = 'registered_subject.csv'\n",
    "rs_file_path = data_path + rs_file_name\n",
    "df_rs.to_csv(rs_file_path, encoding='utf-8')"
   ]
  },
  {
   "cell_type": "code",
   "execution_count": null,
   "metadata": {},
   "outputs": [],
   "source": [
    "# Export Enrollment Checklist\n",
    "subject_screening = EnrollmentChecklist.objects.all()\n",
    "\n",
    "subject_screening_file_name = 'subject_screening.csv'\n",
    "subject_screening_file_path = data_path + subject_screening_file_name\n",
    "sc_data = []\n",
    "for ss in subject_screening:\n",
    "    data = ss.__dict__\n",
    "    data['subject_identifier'] = ss.registered_subject.subject_identifier\n",
    "    sc_data.append(data)\n",
    "df_subject_screening = pd.DataFrame(sc_data)\n",
    "df_subject_screening.to_csv(subject_screening_file_path, encoding='utf-8')"
   ]
  },
  {
   "cell_type": "code",
   "execution_count": null,
   "metadata": {},
   "outputs": [],
   "source": [
    "#Subject Visit\n",
    "\n",
    "subject_visit = SubjectVisit.objects.all()\n",
    "sv_file_name = 'subject_visit.csv'\n",
    "sv_file_path = data_path + sv_file_name\n",
    "sv_data = []\n",
    "for sv in subject_visit:\n",
    "    data = sv.__dict__\n",
    "    data.update(visit_code=sv.appointment.visit_definition.code)\n",
    "    sv_data.append(data)\n",
    "df_sv = pd.DataFrame(sv_data)\n",
    "df_sv.to_csv(sv_file_path, encoding='utf-8')"
   ]
  },
  {
   "cell_type": "code",
   "execution_count": null,
   "metadata": {},
   "outputs": [],
   "source": [
    "# Export Appointments\n",
    "from django.core.exceptions import ObjectDoesNotExist\n",
    "appointments = Appointment.objects.all()\n",
    "ap_file_name = 'appointment.csv'\n",
    "ap_file_path = data_path + ap_file_name\n",
    "ap_data = []\n",
    "for ap in appointments:\n",
    "    data = ap.__dict__\n",
    "    data.update(\n",
    "        subject_identifier=ap.registered_subject.subject_identifier,\n",
    "        visit_code=ap.visit_definition.code)\n",
    "    try:\n",
    "        ap.timepointstatus\n",
    "    except ObjectDoesNotExist:\n",
    "        pass\n",
    "    else:\n",
    "        data.update(\n",
    "            timepoint_status=ap.timepointstatus.status,\n",
    "            timepoint_closed_datetime=ap.timepointstatus.close_datetime)\n",
    "    ap_data.append(data)\n",
    "df_ap = pd.DataFrame(ap_data)\n",
    "df_ap.to_csv(ap_file_path, encoding='utf-8')"
   ]
  },
  {
   "cell_type": "code",
   "execution_count": null,
   "metadata": {},
   "outputs": [],
   "source": [
    "# Export CRFS\n",
    "from django.db.models import get_model\n",
    "crf_list = [\n",
    "    'symptomsandtesting', 'labresultheightweight', 'activityandfunctioning', 'baseriskassessmentdemo', 'baseriskassessment',\n",
    "    'baseriskassessmentfemale', 'baseriskassessmentcancer', 'baseriskassessmentsun', 'baseriskassessmentfuel',\n",
    "    'baseriskassessmentchemical', 'baseriskassessmentmining', 'baseriskassessmenteating', 'baseriskassessmentsmoking',\n",
    "    'baseriskassessmentalcohol', 'cancerdiagnosis', 'oncologytreatmentplan', 'labresulthaematology', 'labresultchemistry',\n",
    "    'labresulttb', 'baselinehivhistory', 'bhhhivtest', 'bhhwhoillness', 'haartrecord', 'oncologytreatmentrecord',\n",
    "    'otrsurgical', 'otrchemo', 'radiationtreatment', 'currentsymptoms', 'oncologytreatmentcompleted']\n",
    "data_path = '/home/django/export_migration_data/crfs/'\n",
    "for model_name in crf_list:\n",
    "    cls = get_model('cancer_subject', model_name)\n",
    "    objs = cls.objects.all()\n",
    "    crf_data = []\n",
    "    crf_file_path = data_path + model_name + '.csv'\n",
    "    for obj in objs:\n",
    "        data = obj.__dict__\n",
    "        data.update(\n",
    "        subject_visit_id=obj.subject_visit.id)\n",
    "        crf_data.append(data)\n",
    "    df_crf = pd.DataFrame(crf_data)\n",
    "    df_crf.to_csv(crf_file_path, encoding='utf-8')"
   ]
  },
  {
   "cell_type": "code",
   "execution_count": null,
   "metadata": {},
   "outputs": [],
   "source": [
    "# Export subject requisitions\n",
    "from datetime import datetime\n",
    "subject_requisition = SubjectRequisition.objects.all()\n",
    "sr_file_name = 'subject_requisition.csv'\n",
    "sr_file_path = data_path + sr_file_name\n",
    "sr_data = []\n",
    "for sr in subject_requisition:\n",
    "    data = sr.__dict__\n",
    "    data.update(subject_visit_id=sr.subject_visit.id)\n",
    "    sr_data.append(data)\n",
    "df_sr = pd.DataFrame(sr_data)\n",
    "df_sr.to_csv(sr_file_path, encoding='utf-8')"
   ]
  },
  {
   "cell_type": "code",
   "execution_count": null,
   "metadata": {},
   "outputs": [],
   "source": [
    "# Export subject death\n",
    "from datetime import datetime\n",
    "subject_death = SubjectDeath.objects.all()\n",
    "sd_file_name = 'subject_death.csv'\n",
    "sd_file_path = data_path + sd_file_name\n",
    "sd_data = []\n",
    "for sd in subject_death:\n",
    "    data = sd.__dict__\n",
    "    data.update(\n",
    "        subject_identifier=sd.registered_subject.subject_identifier)\n",
    "    sd_data.append(data)\n",
    "df_sd = pd.DataFrame(sd_data)\n",
    "df_sd.to_csv(sd_file_path, encoding='utf-8')"
   ]
  },
  {
   "cell_type": "code",
   "execution_count": null,
   "metadata": {},
   "outputs": [],
   "source": [
    "# Export subject locator\n",
    "from datetime import datetime\n",
    "subject_locator = Locator.objects.filter(created__lte=datetime(2019, 4, 5))\n",
    "sl_file_name = 'subject_locator.csv'\n",
    "sl_file_path = data_path + sl_file_name\n",
    "sl_data = []\n",
    "for sl in subject_locator:\n",
    "    data = sl.__dict__\n",
    "    data.update(\n",
    "        subject_identifier=sl.registered_subject.subject_identifier)\n",
    "    sl_data.append(data)\n",
    "df_sl = pd.DataFrame(sl_data)\n",
    "df_sl.to_csv(sl_file_path, encoding='utf-8')"
   ]
  },
  {
   "cell_type": "code",
   "execution_count": null,
   "metadata": {},
   "outputs": [],
   "source": [
    "# Export subject offstudy\n",
    "from datetime import datetime\n",
    "subject_offstudy = SubjectOffStudy.objects.all()\n",
    "so_file_name = 'subject_offstudy.csv'\n",
    "so_file_path = data_path + so_file_name\n",
    "so_data = []\n",
    "for so in subject_offstudy:\n",
    "    data = so.__dict__\n",
    "    data.update(\n",
    "        subject_visit_id=sd.subject_visit.id,\n",
    "        subject_identifier=so.registered_subject.subject_identifier)\n",
    "    so_data.append(data)\n",
    "df_so = pd.DataFrame(so_data)\n",
    "df_so.to_csv(so_file_path, sep='|', encoding='utf-8')"
   ]
  },
  {
   "cell_type": "code",
   "execution_count": null,
   "metadata": {},
   "outputs": [],
   "source": [
    "# Export List Data\n",
    "from django.db.models import get_model\n",
    "list_models = ['infodeterminant', 'radiationsideeffects', 'resultstorecord', 'whoillness']\n",
    "for model_name in list_models:\n",
    "    cls = get_model('cancer_list', model_name)\n",
    "    objs = cls.objects.all()\n",
    "    list_data = []\n",
    "    list_model_file_path = data_path + model_name + '.csv'\n",
    "    for obj in objs:\n",
    "        data = obj.__dict__\n",
    "        list_data.append(data)\n",
    "    df_list = pd.DataFrame(list_data)\n",
    "    df_list.to_csv(list_model_file_path, encoding='utf-8')\n"
   ]
  },
  {
   "cell_type": "code",
   "execution_count": null,
   "metadata": {},
   "outputs": [],
   "source": [
    "#Export CRF list data\n",
    "from django.db.models import get_model\n",
    "#crf, obj_id, field_name, m_name_cls, m_data\n",
    "list_data_crf = [\n",
    "    ['cancerdiagnosis', 'results_to_record', 'resultstorecord'], ['bhhwhoillness', 'who_illness', 'whoillness'],\n",
    "    ['radiationtreatment', 'side_effects', 'radiationsideeffects']]\n",
    "data = []\n",
    "for d in list_data_crf:\n",
    "    crf, field_name, many_model = d\n",
    "    cls = get_model('cancer_subject', crf)\n",
    "    crf_objs = cls.objects.all()\n",
    "    for obj in crf_objs:\n",
    "        m_field_data = getattr(obj, field_name).all()\n",
    "        if m_field_data:\n",
    "            m_data = ''\n",
    "            for m_obj in m_field_data:\n",
    "                m_data += m_obj.short_name + '-' + m_obj.name + '|'\n",
    "            data.append([crf, obj.id, field_name, many_model, m_data])\n",
    "list_model_crf_data_file_path = data_path + 'df_crf_list' + '.csv'\n",
    "df_crf_list = pd.DataFrame(data)\n",
    "df_crf_list.to_csv(list_model_crf_data_file_path, encoding='utf-8')"
   ]
  }
 ],
 "metadata": {
  "kernelspec": {
   "display_name": "Python 3",
   "language": "python",
   "name": "python3"
  },
  "language_info": {
   "codemirror_mode": {
    "name": "ipython",
    "version": 3
   },
   "file_extension": ".py",
   "mimetype": "text/x-python",
   "name": "python",
   "nbconvert_exporter": "python",
   "pygments_lexer": "ipython3",
   "version": "3.7.2"
  }
 },
 "nbformat": 4,
 "nbformat_minor": 2
}
