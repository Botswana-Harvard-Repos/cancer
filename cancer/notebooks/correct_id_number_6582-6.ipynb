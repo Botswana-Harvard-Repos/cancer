{
 "cells": [
  {
   "cell_type": "code",
   "execution_count": 19,
   "outputs": [],
   "source": [
    "import os, sys\n",
    "import django\n",
    "\n",
    "sys.path.append('../..') # add path to project root dir\n",
    "os.environ[\"DJANGO_SETTINGS_MODULE\"] = \"cancer.settings\"\n",
    "os.environ[\"DJANGO_ALLOW_ASYNC_UNSAFE\"] = \"true\"\n",
    "\n",
    "from django.core.wsgi import get_wsgi_application\n",
    "application = get_wsgi_application()"
   ],
   "metadata": {
    "collapsed": false
   }
  },
  {
   "cell_type": "code",
   "execution_count": 20,
   "outputs": [],
   "source": [
    "from cancer_subject.models import SubjectConsent\n",
    "\n",
    "subject_identifier = '045-040996582-6'\n",
    "correct_identity = '587523611'\n",
    "\n",
    "# get consent\n",
    "subject_consents = SubjectConsent.objects.filter(subject_identifier = subject_identifier )\n",
    "\n",
    "# change identity to correct identity number\n",
    "for subject_consent in subject_consents:\n",
    "    subject_consent.identity = correct_identity\n",
    "    subject_consent.confirm_identity = correct_identity\n",
    "    subject_consent.save()\n",
    "\n"
   ],
   "metadata": {
    "collapsed": false
   }
  }
 ],
 "metadata": {
  "kernelspec": {
   "display_name": "Python 3",
   "language": "python",
   "name": "python3"
  },
  "language_info": {
   "codemirror_mode": {
    "name": "ipython",
    "version": 2
   },
   "file_extension": ".py",
   "mimetype": "text/x-python",
   "name": "python",
   "nbconvert_exporter": "python",
   "pygments_lexer": "ipython2",
   "version": "2.7.6"
  }
 },
 "nbformat": 4,
 "nbformat_minor": 0
}
