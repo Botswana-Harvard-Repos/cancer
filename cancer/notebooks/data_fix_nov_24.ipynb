{
 "cells": [
  {
   "cell_type": "code",
   "execution_count": null,
   "metadata": {},
   "outputs": [],
   "source": [
    "import os, sys\n",
    "import django\n",
    "\n",
    "sys.path.append('../..') # add path to project root dir\n",
    "os.environ[\"DJANGO_SETTINGS_MODULE\"] = \"cancer.settings\"\n",
    "os.environ[\"DJANGO_ALLOW_ASYNC_UNSAFE\"] = \"true\"\n",
    "\n",
    "from django.core.wsgi import get_wsgi_application\n",
    "application = get_wsgi_application()"
   ]
  },
  {
   "cell_type": "markdown",
   "metadata": {},
   "source": [
    "7715"
   ]
  },
  {
   "cell_type": "code",
   "execution_count": 2,
   "metadata": {},
   "outputs": [],
   "source": [
    "from cancer_subject.models import SubjectConsent\n",
    "from datetime import datetime\n",
    "\n",
    "subject_identifier = '045-040997560-1'\n",
    "firstname ='MONTHOSI BACHE'\n",
    "\n",
    "# get consent\n",
    "subject_consents = SubjectConsent.objects.filter(subject_identifier = subject_identifier )\n",
    "\n",
    "# change name  \n",
    "for subject_consent in subject_consents:\n",
    "    subject_consent.first_name =firstname\n",
    "    subject_consent.save()\n",
    "\n"
   ]
  },
  {
   "cell_type": "markdown",
   "metadata": {},
   "source": [
    "7709"
   ]
  },
  {
   "cell_type": "code",
   "execution_count": 3,
   "metadata": {},
   "outputs": [],
   "source": [
    "from cancer_subject.models import SubjectConsent\n",
    "from datetime import datetime\n",
    "\n",
    "subject_identifier = '045-040997596-5'\n",
    "firstname ='SOLOMON'\n",
    "\n",
    "# get consent\n",
    "subject_consents = SubjectConsent.objects.filter(subject_identifier = subject_identifier )\n",
    "\n",
    "# change name  \n",
    "for subject_consent in subject_consents:\n",
    "    subject_consent.first_name =firstname\n",
    "    subject_consent.save()"
   ]
  },
  {
   "cell_type": "markdown",
   "metadata": {},
   "source": [
    "7718"
   ]
  },
  {
   "cell_type": "code",
   "execution_count": 4,
   "metadata": {},
   "outputs": [],
   "source": [
    "from cancer_subject.models import SubjectConsent\n",
    "\n",
    "subject_identifier = '045-040997613-8'\n",
    "correct_surname = 'GALEEMELWE'\n",
    "\n",
    "# get consent\n",
    "subject_consents = SubjectConsent.objects.filter(subject_identifier = subject_identifier )\n",
    "\n",
    "# change identity to correct surname\n",
    "for subject_consent in subject_consents:\n",
    "    subject_consent.last_name = correct_surname\n",
    "    subject_consent.save()"
   ]
  },
  {
   "cell_type": "markdown",
   "metadata": {},
   "source": [
    "7716"
   ]
  },
  {
   "cell_type": "code",
   "execution_count": 5,
   "metadata": {},
   "outputs": [],
   "source": [
    "from cancer_subject.models import SubjectConsent\n",
    "\n",
    "subject_identifier = '045-040997610-4'\n",
    "correct_surname = 'KHITHIWE'\n",
    "\n",
    "# get consent\n",
    "subject_consents = SubjectConsent.objects.filter(subject_identifier = subject_identifier )\n",
    "\n",
    "# change identity to correct surname\n",
    "for subject_consent in subject_consents:\n",
    "    subject_consent.last_name = correct_surname\n",
    "    subject_consent.save()"
   ]
  }
 ],
 "metadata": {
  "kernelspec": {
   "display_name": "cancer-eg",
   "language": "python",
   "name": "python3"
  },
  "language_info": {
   "codemirror_mode": {
    "name": "ipython",
    "version": 3
   },
   "file_extension": ".py",
   "mimetype": "text/x-python",
   "name": "python",
   "nbconvert_exporter": "python",
   "pygments_lexer": "ipython3",
   "version": "3.10.9"
  }
 },
 "nbformat": 4,
 "nbformat_minor": 4
}
