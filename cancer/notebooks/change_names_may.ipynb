{
 "cells": [
  {
   "cell_type": "code",
   "execution_count": null,
   "metadata": {},
   "outputs": [],
   "source": [
    "import os, sys\n",
    "import django\n",
    "\n",
    "sys.path.append('../..') # add path to project root dir\n",
    "os.environ[\"DJANGO_SETTINGS_MODULE\"] = \"cancer.settings\"\n",
    "os.environ[\"DJANGO_ALLOW_ASYNC_UNSAFE\"] = \"true\"\n",
    "\n",
    "from django.core.wsgi import get_wsgi_application\n",
    "application = get_wsgi_application()"
   ]
  },
  {
   "cell_type": "code",
   "execution_count": null,
   "metadata": {},
   "outputs": [],
   "source": [
    "from cancer_subject.models import SubjectConsent\n",
    "\n",
    "subject_identifier = '045-040997420-8'\n",
    "correct_name = 'MPHO'\n",
    "\n",
    "# get consent\n",
    "subject_consents = SubjectConsent.objects.filter(subject_identifier = subject_identifier )\n",
    "\n",
    "# change identity to correct firstname\n",
    "for subject_consent in subject_consents:\n",
    "    subject_consent.first_name = correct_name\n",
    "    subject_consent.save()"
   ]
  },
  {
   "cell_type": "code",
   "execution_count": null,
   "metadata": {},
   "outputs": [],
   "source": [
    "from cancer_subject.models import SubjectConsent\n",
    "\n",
    "subject_identifier = '045-040997395-2'\n",
    "correct_name = 'MATLAKALA'\n",
    "\n",
    "# get consent\n",
    "subject_consents = SubjectConsent.objects.filter(subject_identifier = subject_identifier )\n",
    "\n",
    "# change identity to correct firstname\n",
    "for subject_consent in subject_consents:\n",
    "    subject_consent.first_name = correct_name\n",
    "    subject_consent.save()"
   ]
  },
  {
   "cell_type": "code",
   "execution_count": null,
   "metadata": {},
   "outputs": [],
   "source": [
    "from cancer_subject.models import SubjectConsent\n",
    "\n",
    "subject_identifier = '045-040997442-2'\n",
    "correct_identity = '740721400'\n",
    "\n",
    "# get consent\n",
    "subject_consents = SubjectConsent.objects.filter(subject_identifier = subject_identifier )\n",
    "\n",
    "# change identity to correct identity number\n",
    "for subject_consent in subject_consents:\n",
    "    subject_consent.identity = correct_identity\n",
    "    subject_consent.confirm_identity = correct_identity\n",
    "    subject_consent.save()"
   ]
  },
  {
   "cell_type": "code",
   "execution_count": null,
   "metadata": {},
   "outputs": [],
   "source": [
    "from cancer_subject.models import SubjectConsent\n",
    "\n",
    "subject_identifier = '045-040997384-6'\n",
    "correct_name = 'CHENAMANI'\n",
    "\n",
    "# get consent\n",
    "subject_consents = SubjectConsent.objects.filter(subject_identifier = subject_identifier )\n",
    "\n",
    "# change identity to correct firstname\n",
    "for subject_consent in subject_consents:\n",
    "    subject_consent.first_name = correct_name\n",
    "    subject_consent.save()"
   ]
  }
 ],
 "metadata": {
  "kernelspec": {
   "display_name": "Python 3 (ipykernel)",
   "language": "python",
   "name": "python3"
  },
  "language_info": {
   "codemirror_mode": {
    "name": "ipython",
    "version": 3
   },
   "file_extension": ".py",
   "mimetype": "text/x-python",
   "name": "python",
   "nbconvert_exporter": "python",
   "pygments_lexer": "ipython3",
   "version": "3.10.9"
  }
 },
 "nbformat": 4,
 "nbformat_minor": 4
}
