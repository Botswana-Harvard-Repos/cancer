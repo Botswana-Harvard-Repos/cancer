{
 "cells": [
  {
   "cell_type": "code",
   "execution_count": 15,
   "metadata": {},
   "outputs": [],
   "source": [
    "import MySQLdb"
   ]
  },
  {
   "cell_type": "code",
   "execution_count": 16,
   "metadata": {},
   "outputs": [],
   "source": [
    "def tables_columns(tables=None, host=None, port=None, user=None, passwd=None, db=None):\n",
    "    \"\"\"Return a dict of of columns for a table.\n",
    "    \"\"\"\n",
    "    connection = MySQLdb.connect(host=host, port=port,user=user, passwd=passwd, db=db)\n",
    "    cursor = connection.cursor()\n",
    "    table_columns_dict = {}\n",
    "    for table_name in tables:\n",
    "        cursor.execute(f'desc {table_name}')\n",
    "        table_columns_dict[table_name] = [column[0] for column in cursor.fetchall()]\n",
    "    connection.close()\n",
    "    return table_columns_dict"
   ]
  },
  {
   "cell_type": "code",
   "execution_count": 17,
   "metadata": {},
   "outputs": [],
   "source": [
    "new_table_list = ['cancer_subject_appointment',\n",
    " 'cancer_subject_subjectvisit',\n",
    " 'cancer_subject_activityandfunctioning',\n",
    " 'cancer_subject_ae010',\n",
    " 'cancer_subject_af004',\n",
    " 'cancer_subject_af005',\n",
    " 'cancer_subject_baseriskassessment',\n",
    " 'cancer_subject_baseriskassessmentalcohol',\n",
    " 'cancer_subject_baseriskassessmentcancer',\n",
    " 'cancer_subject_baseriskassessmentchemical',\n",
    " 'cancer_subject_baseriskassessmentdemo',\n",
    " 'cancer_subject_baseriskassessmenteating',\n",
    " 'cancer_subject_baseriskassessmentfemale',\n",
    " 'cancer_subject_baseriskassessmentfuel',\n",
    " 'cancer_subject_baseriskassessmentmining',\n",
    " 'cancer_subject_baseriskassessmentsmoking',\n",
    " 'cancer_subject_baseriskassessmentsun',\n",
    " 'cancer_subject_baselinehivhistory',\n",
    " 'cancer_subject_bhhcd4',\n",
    " 'cancer_subject_bhhhivtest',\n",
    " 'cancer_subject_infodeterminant',\n",
    " 'cancer_subject_whoillness',\n",
    " 'cancer_subject_radiationsideeffects',\n",
    " 'cancer_subject_resultstorecord',\n",
    " 'cancer_subject_bhhwhoillness',\n",
    " 'cancer_subject_cancerdiagnosis',\n",
    " 'cancer_subject_oncologytreatmentplan',\n",
    " 'cancer_subject_otrchemo',\n",
    " 'cancer_subject_chemomedplan',\n",
    " 'cancer_subject_chemomedrecord',\n",
    " 'cancer_subject_currentsymptoms',\n",
    " 'cancer_subject_subjectscreening',\n",
    " 'cancer_subject_haartrecord',\n",
    " 'cancer_subject_haartmedrecord',\n",
    " 'cancer_subject_identifierhistory',\n",
    " 'cancer_subject_labresult',\n",
    " 'cancer_subject_labresultcd4',\n",
    " 'cancer_subject_labresultchemistry',\n",
    " 'cancer_subject_labresulthaematology',\n",
    " 'cancer_subject_labresultheightweight',\n",
    " 'cancer_subject_labresulthiv',\n",
    " 'cancer_subject_labresulttb',\n",
    " 'cancer_subject_labresultviralload',\n",
    " 'cancer_subject_oncologytreatmentcompleted',\n",
    " 'cancer_subject_oncologytreatmentrecord',\n",
    " 'cancer_subject_onschedule',\n",
    " 'cancer_subject_otrradiation',\n",
    " 'cancer_subject_otrsurgical',\n",
    " 'cancer_subject_radiationtreatment',\n",
    " 'cancer_subject_radiationtreatmentrecord',\n",
    " 'cancer_subject_referral',\n",
    " 'cancer_subject_subjectconsent',\n",
    " 'cancer_subject_subjectlocator',\n",
    " 'cancer_subject_subjectoffstudy',\n",
    " 'cancer_subject_subjectrequisition',\n",
    " 'cancer_subject_symptomsandtesting',\n",
    " 'cancer_subject_treatmentresponse']\n",
    "\n",
    "old_table_list = ['cancer_subject_subjectvisit',\n",
    " 'cancer_subject_subjectconsent',\n",
    " 'cancer_subject_enrollmentsite',\n",
    " 'cancer_subject_subjectdeath',\n",
    " 'cancer_subject_subjectoffstudy',\n",
    " 'cancer_subject_enrollmentchecklist',\n",
    " 'cancer_subject_baseriskassessment',\n",
    " 'cancer_subject_baseriskassessmentsmoking',\n",
    " 'cancer_subject_baseriskassessmentsun',\n",
    " 'cancer_subject_baseriskassessmentmining',\n",
    " 'cancer_subject_baseriskassessmentalcohol',\n",
    " 'cancer_subject_baseriskassessmentfemale',\n",
    " 'cancer_subject_baseriskassessmentchemical',\n",
    " 'cancer_subject_baseriskassessmentfuel',\n",
    " 'cancer_subject_baseriskassessmentcancer',\n",
    " 'cancer_subject_baseriskassessmentdemo',\n",
    " 'cancer_subject_baseriskassessmenteating',\n",
    " 'cancer_subject_cancerdiagnosis',\n",
    " 'cancer_subject_activityandfunctioning',\n",
    " 'cancer_subject_oncologytreatmentplan',\n",
    " 'cancer_subject_otrchemo',\n",
    " 'cancer_subject_chemomedplan',\n",
    " 'cancer_subject_chemomedrecord',\n",
    " 'cancer_subject_treatmentresponse',\n",
    " 'cancer_subject_referral',\n",
    " 'cancer_subject_locator',\n",
    " 'cancer_subject_haartrecord',\n",
    " 'cancer_subject_haartmedrecord',\n",
    " 'cancer_subject_labresult',\n",
    " 'cancer_subject_labresulthiv',\n",
    " 'cancer_subject_labresultcd4',\n",
    " 'cancer_subject_labresultviralload',\n",
    " 'cancer_subject_labresulthaematology',\n",
    " 'cancer_subject_labresultchemistry',\n",
    " 'cancer_subject_labresulttb',\n",
    " 'cancer_subject_labresultheightweight',\n",
    " 'cancer_subject_oncologytreatmentrecord',\n",
    " 'cancer_subject_otrradiation',\n",
    " 'cancer_subject_otrsurgical',\n",
    " 'cancer_subject_baselinehivhistory',\n",
    " 'cancer_subject_bhhhivtest',\n",
    " 'cancer_subject_bhhwhoillness',\n",
    " 'cancer_subject_bhhcd4',\n",
    " 'cancer_subject_symptomsandtesting',\n",
    " 'cancer_subject_radiationtreatment',\n",
    " 'cancer_subject_radiationtreatmentrecord',\n",
    " 'cancer_subject_oncologytreatmentcompleted',\n",
    " 'cancer_subject_currentsymptoms']\n",
    "# Tables and columns dictionaries\n",
    "old_db_tables = tables_columns(tables=old_table_list, host='127.0.0.1', port=3306,user='root', passwd='thabokga@321', db='bhp045_master')\n",
    "new_db_tables = tables_columns(tables=new_table_list, host='127.0.0.1', port=3306, user='root', passwd='thabokga@321', db='cancer')"
   ]
  },
  {
   "cell_type": "code",
   "execution_count": 18,
   "metadata": {},
   "outputs": [
    {
     "name": "stdout",
     "output_type": "stream",
     "text": [
      "old tables that do ont exist in the new database\n",
      "['cancer_subject_enrollmentchecklist', 'cancer_subject_enrollmentsite', 'cancer_subject_locator', 'cancer_subject_subjectdeath']\n"
     ]
    }
   ],
   "source": [
    "# Difference in tables on the subject app\n",
    "old_new_diff = list(set(old_table_list) - set(new_table_list))\n",
    "new_old_diff = list(set(new_table_list) - set(old_table_list))\n",
    "print(\"old tables that do ont exist in the new database\")\n",
    "print(old_new_diff)"
   ]
  },
  {
   "cell_type": "code",
   "execution_count": 19,
   "metadata": {},
   "outputs": [
    {
     "name": "stdout",
     "output_type": "stream",
     "text": [
      "New tables that do not exist in the old database\n",
      "['cancer_subject_af004', 'cancer_subject_resultstorecord', 'cancer_subject_subjectscreening', 'cancer_subject_identifierhistory', 'cancer_subject_subjectlocator', 'cancer_subject_af005', 'cancer_subject_onschedule', 'cancer_subject_infodeterminant', 'cancer_subject_whoillness', 'cancer_subject_ae010', 'cancer_subject_radiationsideeffects', 'cancer_subject_subjectrequisition', 'cancer_subject_appointment']\n"
     ]
    }
   ],
   "source": [
    "print(\"New tables that do not exist in the old database\")\n",
    "print(new_old_diff)"
   ]
  },
  {
   "cell_type": "code",
   "execution_count": 20,
   "metadata": {},
   "outputs": [],
   "source": [
    "\n",
    "# Central server tables\n",
    "def diff_btwn_2_tables(table_list=[], table_columns_dict1=None, table_columns_dict2=None):\n",
    "    \"\"\"Return a dictionary of lists diff.\n",
    "    \"\"\"\n",
    "    table_columns_diff = {}\n",
    "    for table in table_list:\n",
    "        list1 = table_columns_dict1.get(table, '')\n",
    "        list2 = table_columns_dict2.get(table, '')\n",
    "        if list1 and list2:\n",
    "            if list(set(list1) - set(list2)):\n",
    "                table_columns_diff[table] = list(set(list1) - set(list2))\n",
    "    return table_columns_diff\n",
    "\n",
    "old_table_column_diff = diff_btwn_2_tables(\n",
    "    table_list=old_table_list,\n",
    "    table_columns_dict1=old_db_tables,\n",
    "    table_columns_dict2=new_db_tables)"
   ]
  },
  {
   "cell_type": "code",
   "execution_count": null,
   "metadata": {},
   "outputs": [],
   "source": []
  },
  {
   "cell_type": "code",
   "execution_count": 25,
   "metadata": {
    "scrolled": false
   },
   "outputs": [],
   "source": [
    "new_table_column_diff = diff_btwn_2_tables(\n",
    "    table_list=new_table_list,\n",
    "    table_columns_dict1=new_db_tables,\n",
    "    table_columns_dict2=old_db_tables)"
   ]
  },
  {
   "cell_type": "code",
   "execution_count": 23,
   "metadata": {},
   "outputs": [],
   "source": [
    "import pandas as pd\n",
    "headers = ['tables', 'colunms']\n",
    "\n",
    "new_data = sorted([(k,v) for k,v in new_table_column_diff.items()])\n",
    "df = pd.DataFrame(new_data)\n",
    "df.to_csv('new_columns_introduced.csv', encoding='utf-8')"
   ]
  },
  {
   "cell_type": "code",
   "execution_count": 24,
   "metadata": {},
   "outputs": [],
   "source": [
    "old_data = sorted([(k,v) for k,v in old_table_column_diff.items()])\n",
    "df = pd.DataFrame(old_data)\n",
    "df.to_csv('old_columns_introduced.csv', encoding='utf-8')"
   ]
  },
  {
   "cell_type": "code",
   "execution_count": 31,
   "metadata": {},
   "outputs": [],
   "source": [
    "# Locator\n",
    "tb_name1 = ['cancer_subject_locator']\n",
    "tb_name_2 = ['edc_locator_subjectlocator']\n",
    "old_db_tables = tables_columns(tables=tb_name1, host='127.0.0.1', port=3306,user='root', passwd='thabokga@321', db='bhp045_master')\n",
    "new_db_tables = tables_columns(tables=tb_name_2, host='127.0.0.1', port=3306, user='root', passwd='thabokga@321', db='cancer')\n",
    "list1 = old_db_tables.get('cancer_subject_locator', '')\n",
    "list2 = new_db_tables.get('edc_locator_subjectlocator', '')\n",
    "table_columns_diff = {}\n",
    "if list1 and list2:\n",
    "    if list(set(list1) - set(list2)):\n",
    "        table_columns_diff['cancer_subject_locator'] = list(set(list1) - set(list2))\n",
    "new_data = sorted([(k,v) for k,v in table_columns_diff.items()])\n",
    "df = pd.DataFrame(new_data)\n",
    "df.to_csv('old_locator_columns.csv', encoding='utf-8')"
   ]
  },
  {
   "cell_type": "code",
   "execution_count": 32,
   "metadata": {},
   "outputs": [],
   "source": [
    "# Locator, Death and enrollment\n",
    "tb_name1 = ['cancer_subject_locator']\n",
    "tb_name_2 = ['edc_locator_subjectlocator']\n",
    "old_db_tables = tables_columns(tables=tb_name1, host='127.0.0.1', port=3306,user='root', passwd='thabokga@321', db='bhp045_master')\n",
    "new_db_tables = tables_columns(tables=tb_name_2, host='127.0.0.1', port=3306, user='root', passwd='thabokga@321', db='cancer')\n",
    "list1 = old_db_tables.get('cancer_subject_locator', '')\n",
    "list2 = new_db_tables.get('edc_locator_subjectlocator', '')\n",
    "table_columns_diff = {}\n",
    "if list1 and list2:\n",
    "    if list(set(list1) - set(list2)):\n",
    "        table_columns_diff['edc_locator_subjectlocator'] = list(set(list2) - set(list1))\n",
    "new_data = sorted([(k,v) for k,v in table_columns_diff.items()])\n",
    "df = pd.DataFrame(new_data)\n",
    "df.to_csv('new_locator_columns.csv', encoding='utf-8')"
   ]
  },
  {
   "cell_type": "code",
   "execution_count": 33,
   "metadata": {},
   "outputs": [
    {
     "data": {
      "text/plain": [
       "{'cancer_subject_enrollmentchecklist': ['enrollment_site_id',\n",
       "  'registered_subject_id',\n",
       "  'registration_datetime']}"
      ]
     },
     "execution_count": 33,
     "metadata": {},
     "output_type": "execute_result"
    }
   ],
   "source": [
    "# Enrollemnt checklist form\n",
    "tb_name1 = ['cancer_subject_enrollmentchecklist']\n",
    "tb_name_2 = ['cancer_subject_subjectscreening']\n",
    "old_db_tables = tables_columns(tables=tb_name1, host='127.0.0.1', port=3306,user='root', passwd='thabokga@321', db='bhp045_master')\n",
    "new_db_tables = tables_columns(tables=tb_name_2, host='127.0.0.1', port=3306, user='root', passwd='thabokga@321', db='cancer')\n",
    "list1 = old_db_tables.get('cancer_subject_enrollmentchecklist', '')\n",
    "list2 = new_db_tables.get('cancer_subject_subjectscreening', '')\n",
    "table_columns_diff = {}\n",
    "if list1 and list2:\n",
    "    if list(set(list1) - set(list2)):\n",
    "        table_columns_diff['cancer_subject_enrollmentchecklist'] = list(set(list1) - set(list2))\n",
    "new_data = sorted([(k,v) for k,v in table_columns_diff.items()])\n",
    "df = pd.DataFrame(new_data)\n",
    "df.to_csv('old_enrollment_checklist_columns.csv', encoding='utf-8')\n",
    "table_columns_diff"
   ]
  },
  {
   "cell_type": "code",
   "execution_count": 34,
   "metadata": {},
   "outputs": [
    {
     "data": {
      "text/plain": [
       "{'cancer_subject_enrollmentchecklist': ['device_created',\n",
       "  'device_modified',\n",
       "  'eligible',\n",
       "  'screening_identifier',\n",
       "  'slug',\n",
       "  'site_id',\n",
       "  'report_datetime',\n",
       "  'subject_identifier',\n",
       "  'enrollment_site']}"
      ]
     },
     "execution_count": 34,
     "metadata": {},
     "output_type": "execute_result"
    }
   ],
   "source": [
    "# Enrollemnt checklist form\n",
    "tb_name1 = ['cancer_subject_enrollmentchecklist']\n",
    "tb_name_2 = ['cancer_subject_subjectscreening']\n",
    "old_db_tables = tables_columns(tables=tb_name1, host='127.0.0.1', port=3306,user='root', passwd='thabokga@321', db='bhp045_master')\n",
    "new_db_tables = tables_columns(tables=tb_name_2, host='127.0.0.1', port=3306, user='root', passwd='thabokga@321', db='cancer')\n",
    "list1 = old_db_tables.get('cancer_subject_enrollmentchecklist', '')\n",
    "list2 = new_db_tables.get('cancer_subject_subjectscreening', '')\n",
    "table_columns_diff = {}\n",
    "if list1 and list2:\n",
    "    if list(set(list1) - set(list2)):\n",
    "        table_columns_diff['cancer_subject_enrollmentchecklist'] = list(set(list2) - set(list1))\n",
    "new_data = sorted([(k,v) for k,v in table_columns_diff.items()])\n",
    "df = pd.DataFrame(new_data)\n",
    "df.to_csv('new_enrollment_checklist_columns.csv', encoding='utf-8')\n",
    "table_columns_diff"
   ]
  }
 ],
 "metadata": {
  "kernelspec": {
   "display_name": "Python 3",
   "language": "python",
   "name": "python3"
  },
  "language_info": {
   "codemirror_mode": {
    "name": "ipython",
    "version": 3
   },
   "file_extension": ".py",
   "mimetype": "text/x-python",
   "name": "python",
   "nbconvert_exporter": "python",
   "pygments_lexer": "ipython3",
   "version": "3.6.6"
  }
 },
 "nbformat": 4,
 "nbformat_minor": 2
}
