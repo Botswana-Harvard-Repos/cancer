{
 "cells": [
  {
   "cell_type": "code",
   "execution_count": null,
   "metadata": {},
   "outputs": [],
   "source": [
    "{\n",
    " 'device_created': '99',\n",
    " 'device_modified': '99',\n",
    " 'site_id': 40,\n",
    " 'subject_identifier': None,\n",
    " 'sequence_number': 1,\n",
    " 'identifier': 'S99XGH92',\n",
    " 'linked_identifier': None,\n",
    " 'device_id': 99,\n",
    " 'identifier_type': 'screening_identifier',\n",
    " 'identifier_prefix': None}"
   ]
  }
 ],
 "metadata": {
  "kernelspec": {
   "display_name": "Django Shell-Plus",
   "language": "python",
   "name": "django_extensions"
  },
  "language_info": {
   "codemirror_mode": {
    "name": "ipython",
    "version": 3
   },
   "file_extension": ".py",
   "mimetype": "text/x-python",
   "name": "python",
   "nbconvert_exporter": "python",
   "pygments_lexer": "ipython3",
   "version": "3.7.2"
  }
 },
 "nbformat": 4,
 "nbformat_minor": 2
}
